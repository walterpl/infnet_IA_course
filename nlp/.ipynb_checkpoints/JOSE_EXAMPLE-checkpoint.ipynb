{
 "cells": [
  {
   "cell_type": "markdown",
   "id": "5d8f226d-783a-4ddd-8622-4e234eb3d2b5",
   "metadata": {},
   "source": [
    "# This is Jose Example of usage on Giut Hub"
   ]
  },
  {
   "cell_type": "code",
   "execution_count": null,
   "id": "c1e85686-2209-4da7-8d1b-239c3e3c6287",
   "metadata": {},
   "outputs": [],
   "source": [
    "# it have some code \n",
    "print(\"Hello World\")"
   ]
  }
 ],
 "metadata": {
  "kernelspec": {
   "display_name": "Python 3 (ipykernel)",
   "language": "python",
   "name": "python3"
  },
  "language_info": {
   "codemirror_mode": {
    "name": "ipython",
    "version": 3
   },
   "file_extension": ".py",
   "mimetype": "text/x-python",
   "name": "python",
   "nbconvert_exporter": "python",
   "pygments_lexer": "ipython3",
   "version": "3.9.7"
  }
 },
 "nbformat": 4,
 "nbformat_minor": 5
}
