{
 "cells": [
  {
   "cell_type": "markdown",
   "id": "6e4e49d8-8a8c-4088-88d9-e479e37bb313",
   "metadata": {},
   "source": [
    "# Questões do trabalho final\n",
    "\n",
    "1. Qual o endereço do seu notebook (colab) executado? Use o botão de compartilhamento do colab para obter uma url.\n",
    "R: https://colab.research.google.com/drive/14PvrEwwN0cczSSI49xmNMcwwfg4RbqVU?authuser=1#scrollTo=IQb28v1Q_odu\n",
    "\n",
    "2. Em qual célula está o código que realiza o download dos pacotes necessários para tokenização e stemming usando nltk?\n",
    "\n",
    "R:![pic!](q_2.png \"\")\n",
    "\n",
    "3. Em qual célula está o código que atualiza o spacy e instala o pacote pt_core_news_lg?\n",
    "\n",
    "R:![pic!](q_3.png \"\")\n",
    "\n",
    "4. Em qual célula está o download dos dados diretamente do kaggle?\n",
    "\n",
    "R: ![pic!](q_4.png \"\")\n",
    "\n",
    "5. Em qual célula está a criação do dataframe news_2016 (com examente 7943 notícias)?\n",
    "\n",
    "\n",
    "**não encontrado o mesmo númeor de linhas**\n",
    "R: ![pic!](q_5.png \"\")\n",
    "\n",
    "6. Em qual célula está a função que tokeniza e realiza o stemming dos textos usando funções do nltk?\n",
    "\n",
    "**O retorno é do tipo nltk.stem.RSLPStemmer ou uma lista? deve estar como stemmer? **\n",
    "R: ![pic!](q_6.png \"\")\n",
    "\n",
    "\n",
    "\n",
    "7. Em qual célula está a função que realiza a lematização usando o spacy?\n",
    "\n",
    "R:\n",
    "\n",
    "8. Baseado nos resultados qual a diferença entre stemming e lematização, qual a diferença entre os dois procedimentos? Escolha quatro palavras para exemplificar.\n",
    "\n",
    "R: O processo de lemetização busca reduzir a palavra mas ainda mantendo o seu significado, enquanto o stemmer busca encontrar a palavra raiz e para isso pode remover afixos resultado apenas no radical, podendo assim resultar em uma palavra com um significado diferente do original. Algumas palavras\n",
    "- fazendeiro : fazenda\n",
    "- sou : ser\n",
    "- evoluir : evolução\n",
    "- caseiro : casa"
   ]
  },
  {
   "cell_type": "code",
   "execution_count": 3,
   "id": "353fec18-b1a7-45f7-8fd4-31fe3f8f7493",
   "metadata": {},
   "outputs": [
    {
     "name": "stdout",
     "output_type": "stream",
     "text": [
      "exercícios.ipynb\n",
      "kaggle.json\n",
      "q_2.png\n",
      "q_3.png\n",
      "q_4.png\n",
      "q_5.png\n",
      "question-rio-projeto-de-disciplina-de-text-mining.ipynb\n"
     ]
    }
   ],
   "source": [
    "ls \n"
   ]
  },
  {
   "cell_type": "code",
   "execution_count": null,
   "id": "87a2efdb-21d3-4d31-9a50-4774d3bb2a35",
   "metadata": {},
   "outputs": [],
   "source": []
  }
 ],
 "metadata": {
  "kernelspec": {
   "display_name": "Python 3 (ipykernel)",
   "language": "python",
   "name": "python3"
  },
  "language_info": {
   "codemirror_mode": {
    "name": "ipython",
    "version": 3
   },
   "file_extension": ".py",
   "mimetype": "text/x-python",
   "name": "python",
   "nbconvert_exporter": "python",
   "pygments_lexer": "ipython3",
   "version": "3.9.7"
  }
 },
 "nbformat": 4,
 "nbformat_minor": 5
}
