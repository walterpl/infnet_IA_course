{
 "cells": [
  {
   "cell_type": "code",
   "execution_count": null,
   "id": "7125fd5e-5d67-4b60-8f7e-feb5fe32a0ad",
   "metadata": {
    "tags": []
   },
   "outputs": [],
   "source": [
    "catalog.list()"
   ]
  },
  {
   "cell_type": "code",
   "execution_count": null,
   "id": "c4187476-1e2a-4b9c-aaee-8fa0213fb5a7",
   "metadata": {
    "tags": []
   },
   "outputs": [],
   "source": [
    "raw_df = catalog.load('raw_data')"
   ]
  },
  {
   "cell_type": "code",
   "execution_count": null,
   "id": "1ec861a4-f8fd-429c-bf4d-11dd8f95f388",
   "metadata": {
    "tags": []
   },
   "outputs": [],
   "source": [
    "raw_df.head()"
   ]
  },
  {
   "cell_type": "code",
   "execution_count": null,
   "id": "cc840ef9-1c8d-47ae-924e-1727d0e88bf8",
   "metadata": {
    "tags": []
   },
   "outputs": [],
   "source": [
    "raw_df.columns"
   ]
  },
  {
   "cell_type": "code",
   "execution_count": null,
   "id": "6b07b8b1-fe06-4a7e-81d1-34cd71ba68e2",
   "metadata": {
    "tags": []
   },
   "outputs": [],
   "source": [
    "select_df = raw_df[['lat', 'lon', 'minutes_remaining', 'period', 'playoffs', 'shot_distance', 'shot_made_flag', 'shot_type']]"
   ]
  },
  {
   "cell_type": "code",
   "execution_count": null,
   "id": "3725fcac-50b5-4c1b-952d-28eca0aad930",
   "metadata": {
    "tags": []
   },
   "outputs": [],
   "source": [
    "df_3PT = select_df[select_df.shot_type == '3PT Field Goal']"
   ]
  },
  {
   "cell_type": "code",
   "execution_count": null,
   "id": "cc9b6b0b-3d85-4d84-b7be-af3689d5f0db",
   "metadata": {
    "tags": []
   },
   "outputs": [],
   "source": [
    "df_3PT.drop(columns=['shot_type'],inplace=True)"
   ]
  },
  {
   "cell_type": "code",
   "execution_count": null,
   "id": "15154bf5-eb4e-43db-9a29-2685c259c442",
   "metadata": {
    "tags": []
   },
   "outputs": [],
   "source": [
    "df_3PT.dropna(inplace=True)"
   ]
  },
  {
   "cell_type": "code",
   "execution_count": null,
   "id": "6327b8cc-04ab-4ab8-ad43-07886d8b2d41",
   "metadata": {
    "tags": []
   },
   "outputs": [],
   "source": [
    "serialized = df_3PT.drop(columns=['shot_made_flag']).to_dict(orient='split')"
   ]
  },
  {
   "cell_type": "code",
   "execution_count": null,
   "id": "07d71cb5-863d-4dd0-afe7-67d2aa63f459",
   "metadata": {
    "tags": []
   },
   "outputs": [],
   "source": [
    "%%capture\n",
    "serialized.pop('index')"
   ]
  },
  {
   "cell_type": "code",
   "execution_count": null,
   "id": "11a77b74-e354-4630-8a7c-1d67abf35c08",
   "metadata": {
    "tags": []
   },
   "outputs": [],
   "source": [
    "data = {'dataframe_split':serialized}"
   ]
  },
  {
   "cell_type": "code",
   "execution_count": null,
   "id": "71501aba-06f6-489e-8688-c268761b64ea",
   "metadata": {
    "tags": []
   },
   "outputs": [],
   "source": [
    "import requests"
   ]
  },
  {
   "cell_type": "code",
   "execution_count": null,
   "id": "a66f5254-9c92-4a5b-855d-b9e33ff30248",
   "metadata": {
    "tags": []
   },
   "outputs": [],
   "source": [
    "data = {'dataframe_split':serialized}\n",
    "url = 'http://127.0.0.1:5000/invocations'\n",
    "\n",
    "result = requests.post(url,json=data)"
   ]
  },
  {
   "cell_type": "code",
   "execution_count": null,
   "id": "34b141e3-6f0c-443f-9c69-5184c8089a0e",
   "metadata": {
    "tags": []
   },
   "outputs": [],
   "source": [
    "result.status_code"
   ]
  },
  {
   "cell_type": "code",
   "execution_count": null,
   "id": "6600f00c-0c90-4d4b-8db8-3e512f3643d8",
   "metadata": {
    "tags": []
   },
   "outputs": [],
   "source": [
    "from json import loads"
   ]
  },
  {
   "cell_type": "code",
   "execution_count": null,
   "id": "d8417ad7-04b5-425e-ae86-9bbc6088007c",
   "metadata": {
    "tags": []
   },
   "outputs": [],
   "source": [
    "result = loads(result.text)"
   ]
  },
  {
   "cell_type": "code",
   "execution_count": null,
   "id": "91b6a681-fcc0-40a7-8efc-f39fa35df5f2",
   "metadata": {
    "tags": []
   },
   "outputs": [],
   "source": [
    "predicted = result['predictions']"
   ]
  },
  {
   "cell_type": "code",
   "execution_count": null,
   "id": "369d8092-ec7b-4f9e-9058-0e8cf32d8a85",
   "metadata": {
    "tags": []
   },
   "outputs": [],
   "source": [
    "predicted"
   ]
  },
  {
   "cell_type": "code",
   "execution_count": 122,
   "id": "f5301ffd-5597-4571-a3ee-4cc17f71cc4c",
   "metadata": {
    "tags": []
   },
   "outputs": [],
   "source": [
    "from sklearn.metrics import log_loss, f1_score, classification_report"
   ]
  },
  {
   "cell_type": "code",
   "execution_count": 124,
   "id": "9786e50f-4f54-494a-9b85-39d1619283d2",
   "metadata": {
    "tags": []
   },
   "outputs": [
    {
     "name": "stdout",
     "output_type": "stream",
     "text": [
      "              precision    recall  f1-score   support\n",
      "\n",
      "         0.0       0.67      1.00      0.80      3630\n",
      "         1.0       0.00      0.00      0.00      1782\n",
      "\n",
      "    accuracy                           0.67      5412\n",
      "   macro avg       0.34      0.50      0.40      5412\n",
      "weighted avg       0.45      0.67      0.54      5412\n",
      "\n"
     ]
    }
   ],
   "source": [
    "print(classification_report(df_3PT.shot_made_flag,predicted))"
   ]
  },
  {
   "cell_type": "code",
   "execution_count": null,
   "id": "538180db-4ca1-4da7-ac26-60647d63ddb3",
   "metadata": {},
   "outputs": [],
   "source": []
  }
 ],
 "metadata": {
  "kernelspec": {
   "display_name": "Kedro (eng_ml)",
   "language": "python",
   "name": "kedro_eng_ml"
  },
  "language_info": {
   "codemirror_mode": {
    "name": "ipython",
    "version": 3
   },
   "file_extension": ".py",
   "mimetype": "text/x-python",
   "name": "python",
   "nbconvert_exporter": "python",
   "pygments_lexer": "ipython3",
   "version": "3.9.16"
  }
 },
 "nbformat": 4,
 "nbformat_minor": 5
}
