{
 "cells": [
  {
   "cell_type": "code",
   "execution_count": null,
   "id": "89da0d15-4896-46a2-8acb-631f16e969dd",
   "metadata": {
    "tags": []
   },
   "outputs": [],
   "source": [
    "catalog.list()"
   ]
  },
  {
   "cell_type": "code",
   "execution_count": null,
   "id": "2e38be65-3d75-4f77-9a5e-c16492e85cdc",
   "metadata": {
    "tags": []
   },
   "outputs": [],
   "source": [
    "df_test = catalog.load('base_test')"
   ]
  },
  {
   "cell_type": "code",
   "execution_count": 41,
   "id": "5e09b4c0-fa79-4280-bb9e-054dd1c7096f",
   "metadata": {
    "tags": []
   },
   "outputs": [
    {
     "data": {
      "text/html": [
       "<pre style=\"white-space:pre;overflow-x:auto;line-height:normal;font-family:Menlo,'DejaVu Sans Mono',consolas,'Courier New',monospace\"><span style=\"color: #7fbfbf; text-decoration-color: #7fbfbf\">[04/15/23 19:39:24] </span><span style=\"color: #000080; text-decoration-color: #000080\">INFO    </span> Loading data from <span style=\"color: #008000; text-decoration-color: #008000\">'base_train'</span> <span style=\"font-weight: bold\">(</span>ParquetDataSet<span style=\"font-weight: bold\">)</span><span style=\"color: #808000; text-decoration-color: #808000\">...</span>                 <a href=\"file:///Users/walterpereira/projetcs/IA_infnet/eng-ml/venv/lib/python3.9/site-packages/kedro/io/data_catalog.py\" target=\"_blank\"><span style=\"color: #7f7f7f; text-decoration-color: #7f7f7f\">data_catalog.py</span></a><span style=\"color: #7f7f7f; text-decoration-color: #7f7f7f\">:</span><a href=\"file:///Users/walterpereira/projetcs/IA_infnet/eng-ml/venv/lib/python3.9/site-packages/kedro/io/data_catalog.py#343\" target=\"_blank\"><span style=\"color: #7f7f7f; text-decoration-color: #7f7f7f\">343</span></a>\n",
       "</pre>\n"
      ],
      "text/plain": [
       "\u001b[2;36m[04/15/23 19:39:24]\u001b[0m\u001b[2;36m \u001b[0m\u001b[34mINFO    \u001b[0m Loading data from \u001b[32m'base_train'\u001b[0m \u001b[1m(\u001b[0mParquetDataSet\u001b[1m)\u001b[0m\u001b[33m...\u001b[0m                 \u001b]8;id=397241;file:///Users/walterpereira/projetcs/IA_infnet/eng-ml/venv/lib/python3.9/site-packages/kedro/io/data_catalog.py\u001b\\\u001b[2mdata_catalog.py\u001b[0m\u001b]8;;\u001b\\\u001b[2m:\u001b[0m\u001b]8;id=624853;file:///Users/walterpereira/projetcs/IA_infnet/eng-ml/venv/lib/python3.9/site-packages/kedro/io/data_catalog.py#343\u001b\\\u001b[2m343\u001b[0m\u001b]8;;\u001b\\\n"
      ]
     },
     "metadata": {},
     "output_type": "display_data"
    }
   ],
   "source": [
    "df_train = catalog.load('base_train')"
   ]
  },
  {
   "cell_type": "code",
   "execution_count": null,
   "id": "f016f32d-a6fd-4100-b96c-0f4ac23d1b75",
   "metadata": {
    "tags": []
   },
   "outputs": [],
   "source": [
    "from pycaret.classification import ClassificationExperiment\n",
    "from sklearn.metrics import log_loss, classification_report"
   ]
  },
  {
   "cell_type": "code",
   "execution_count": null,
   "id": "ee4a3794-fc2d-4b1a-a5d5-fc240903c5c7",
   "metadata": {
    "tags": []
   },
   "outputs": [],
   "source": [
    "exp = ClassificationExperiment()\n"
   ]
  },
  {
   "cell_type": "code",
   "execution_count": 42,
   "id": "ce2a5de3-50d1-4bf4-9bb1-ac10de59002a",
   "metadata": {
    "tags": []
   },
   "outputs": [
    {
     "data": {
      "text/html": [
       "<style type=\"text/css\">\n",
       "#T_d0fac_row8_col1 {\n",
       "  background-color: lightgreen;\n",
       "}\n",
       "</style>\n",
       "<table id=\"T_d0fac\">\n",
       "  <thead>\n",
       "    <tr>\n",
       "      <th class=\"blank level0\" >&nbsp;</th>\n",
       "      <th id=\"T_d0fac_level0_col0\" class=\"col_heading level0 col0\" >Description</th>\n",
       "      <th id=\"T_d0fac_level0_col1\" class=\"col_heading level0 col1\" >Value</th>\n",
       "    </tr>\n",
       "  </thead>\n",
       "  <tbody>\n",
       "    <tr>\n",
       "      <th id=\"T_d0fac_level0_row0\" class=\"row_heading level0 row0\" >0</th>\n",
       "      <td id=\"T_d0fac_row0_col0\" class=\"data row0 col0\" >Session id</td>\n",
       "      <td id=\"T_d0fac_row0_col1\" class=\"data row0 col1\" >6401</td>\n",
       "    </tr>\n",
       "    <tr>\n",
       "      <th id=\"T_d0fac_level0_row1\" class=\"row_heading level0 row1\" >1</th>\n",
       "      <td id=\"T_d0fac_row1_col0\" class=\"data row1 col0\" >Target</td>\n",
       "      <td id=\"T_d0fac_row1_col1\" class=\"data row1 col1\" >shot_made_flag</td>\n",
       "    </tr>\n",
       "    <tr>\n",
       "      <th id=\"T_d0fac_level0_row2\" class=\"row_heading level0 row2\" >2</th>\n",
       "      <td id=\"T_d0fac_row2_col0\" class=\"data row2 col0\" >Target type</td>\n",
       "      <td id=\"T_d0fac_row2_col1\" class=\"data row2 col1\" >Binary</td>\n",
       "    </tr>\n",
       "    <tr>\n",
       "      <th id=\"T_d0fac_level0_row3\" class=\"row_heading level0 row3\" >3</th>\n",
       "      <td id=\"T_d0fac_row3_col0\" class=\"data row3 col0\" >Original data shape</td>\n",
       "      <td id=\"T_d0fac_row3_col1\" class=\"data row3 col1\" >(16228, 7)</td>\n",
       "    </tr>\n",
       "    <tr>\n",
       "      <th id=\"T_d0fac_level0_row4\" class=\"row_heading level0 row4\" >4</th>\n",
       "      <td id=\"T_d0fac_row4_col0\" class=\"data row4 col0\" >Transformed data shape</td>\n",
       "      <td id=\"T_d0fac_row4_col1\" class=\"data row4 col1\" >(16228, 7)</td>\n",
       "    </tr>\n",
       "    <tr>\n",
       "      <th id=\"T_d0fac_level0_row5\" class=\"row_heading level0 row5\" >5</th>\n",
       "      <td id=\"T_d0fac_row5_col0\" class=\"data row5 col0\" >Transformed train set shape</td>\n",
       "      <td id=\"T_d0fac_row5_col1\" class=\"data row5 col1\" >(11359, 7)</td>\n",
       "    </tr>\n",
       "    <tr>\n",
       "      <th id=\"T_d0fac_level0_row6\" class=\"row_heading level0 row6\" >6</th>\n",
       "      <td id=\"T_d0fac_row6_col0\" class=\"data row6 col0\" >Transformed test set shape</td>\n",
       "      <td id=\"T_d0fac_row6_col1\" class=\"data row6 col1\" >(4869, 7)</td>\n",
       "    </tr>\n",
       "    <tr>\n",
       "      <th id=\"T_d0fac_level0_row7\" class=\"row_heading level0 row7\" >7</th>\n",
       "      <td id=\"T_d0fac_row7_col0\" class=\"data row7 col0\" >Numeric features</td>\n",
       "      <td id=\"T_d0fac_row7_col1\" class=\"data row7 col1\" >6</td>\n",
       "    </tr>\n",
       "    <tr>\n",
       "      <th id=\"T_d0fac_level0_row8\" class=\"row_heading level0 row8\" >8</th>\n",
       "      <td id=\"T_d0fac_row8_col0\" class=\"data row8 col0\" >Preprocess</td>\n",
       "      <td id=\"T_d0fac_row8_col1\" class=\"data row8 col1\" >True</td>\n",
       "    </tr>\n",
       "    <tr>\n",
       "      <th id=\"T_d0fac_level0_row9\" class=\"row_heading level0 row9\" >9</th>\n",
       "      <td id=\"T_d0fac_row9_col0\" class=\"data row9 col0\" >Imputation type</td>\n",
       "      <td id=\"T_d0fac_row9_col1\" class=\"data row9 col1\" >simple</td>\n",
       "    </tr>\n",
       "    <tr>\n",
       "      <th id=\"T_d0fac_level0_row10\" class=\"row_heading level0 row10\" >10</th>\n",
       "      <td id=\"T_d0fac_row10_col0\" class=\"data row10 col0\" >Numeric imputation</td>\n",
       "      <td id=\"T_d0fac_row10_col1\" class=\"data row10 col1\" >mean</td>\n",
       "    </tr>\n",
       "    <tr>\n",
       "      <th id=\"T_d0fac_level0_row11\" class=\"row_heading level0 row11\" >11</th>\n",
       "      <td id=\"T_d0fac_row11_col0\" class=\"data row11 col0\" >Categorical imputation</td>\n",
       "      <td id=\"T_d0fac_row11_col1\" class=\"data row11 col1\" >mode</td>\n",
       "    </tr>\n",
       "    <tr>\n",
       "      <th id=\"T_d0fac_level0_row12\" class=\"row_heading level0 row12\" >12</th>\n",
       "      <td id=\"T_d0fac_row12_col0\" class=\"data row12 col0\" >Fold Generator</td>\n",
       "      <td id=\"T_d0fac_row12_col1\" class=\"data row12 col1\" >StratifiedKFold</td>\n",
       "    </tr>\n",
       "    <tr>\n",
       "      <th id=\"T_d0fac_level0_row13\" class=\"row_heading level0 row13\" >13</th>\n",
       "      <td id=\"T_d0fac_row13_col0\" class=\"data row13 col0\" >Fold Number</td>\n",
       "      <td id=\"T_d0fac_row13_col1\" class=\"data row13 col1\" >10</td>\n",
       "    </tr>\n",
       "    <tr>\n",
       "      <th id=\"T_d0fac_level0_row14\" class=\"row_heading level0 row14\" >14</th>\n",
       "      <td id=\"T_d0fac_row14_col0\" class=\"data row14 col0\" >CPU Jobs</td>\n",
       "      <td id=\"T_d0fac_row14_col1\" class=\"data row14 col1\" >-1</td>\n",
       "    </tr>\n",
       "    <tr>\n",
       "      <th id=\"T_d0fac_level0_row15\" class=\"row_heading level0 row15\" >15</th>\n",
       "      <td id=\"T_d0fac_row15_col0\" class=\"data row15 col0\" >Use GPU</td>\n",
       "      <td id=\"T_d0fac_row15_col1\" class=\"data row15 col1\" >False</td>\n",
       "    </tr>\n",
       "    <tr>\n",
       "      <th id=\"T_d0fac_level0_row16\" class=\"row_heading level0 row16\" >16</th>\n",
       "      <td id=\"T_d0fac_row16_col0\" class=\"data row16 col0\" >Log Experiment</td>\n",
       "      <td id=\"T_d0fac_row16_col1\" class=\"data row16 col1\" >False</td>\n",
       "    </tr>\n",
       "    <tr>\n",
       "      <th id=\"T_d0fac_level0_row17\" class=\"row_heading level0 row17\" >17</th>\n",
       "      <td id=\"T_d0fac_row17_col0\" class=\"data row17 col0\" >Experiment Name</td>\n",
       "      <td id=\"T_d0fac_row17_col1\" class=\"data row17 col1\" >clf-default-name</td>\n",
       "    </tr>\n",
       "    <tr>\n",
       "      <th id=\"T_d0fac_level0_row18\" class=\"row_heading level0 row18\" >18</th>\n",
       "      <td id=\"T_d0fac_row18_col0\" class=\"data row18 col0\" >USI</td>\n",
       "      <td id=\"T_d0fac_row18_col1\" class=\"data row18 col1\" >e497</td>\n",
       "    </tr>\n",
       "  </tbody>\n",
       "</table>\n"
      ],
      "text/plain": [
       "<pandas.io.formats.style.Styler at 0x13b3c8130>"
      ]
     },
     "metadata": {},
     "output_type": "display_data"
    },
    {
     "data": {
      "text/plain": [
       "<pycaret.classification.oop.ClassificationExperiment at 0x1387695e0>"
      ]
     },
     "execution_count": 42,
     "metadata": {},
     "output_type": "execute_result"
    }
   ],
   "source": [
    "exp.setup(df_train, target='shot_made_flag')"
   ]
  },
  {
   "cell_type": "code",
   "execution_count": 43,
   "id": "41a65931-4a3d-4c56-9f8f-deeecf16ac21",
   "metadata": {},
   "outputs": [
    {
     "data": {
      "text/plain": [
       "Name                                                       Log Loss\n",
       "Display Name                                               Log Loss\n",
       "Score Function                   <function log_loss at 0x13152e820>\n",
       "Scorer               make_scorer(log_loss, greater_is_better=False)\n",
       "Target                                                         pred\n",
       "Args                                                             {}\n",
       "Greater is Better                                             False\n",
       "Multiclass                                                     True\n",
       "Custom                                                         True\n",
       "Name: logloss, dtype: object"
      ]
     },
     "execution_count": 43,
     "metadata": {},
     "output_type": "execute_result"
    }
   ],
   "source": [
    "exp.add_metric('logloss', 'Log Loss', log_loss, greater_is_better = False)"
   ]
  },
  {
   "cell_type": "code",
   "execution_count": null,
   "id": "43f14d8a-e4f9-48a9-846c-f399a0bbd230",
   "metadata": {
    "tags": []
   },
   "outputs": [],
   "source": []
  },
  {
   "cell_type": "code",
   "execution_count": 45,
   "id": "e1083bd8-7e10-4e4f-862b-6c2dab488a96",
   "metadata": {
    "tags": []
   },
   "outputs": [
    {
     "data": {
      "text/html": [],
      "text/plain": [
       "<IPython.core.display.HTML object>"
      ]
     },
     "metadata": {},
     "output_type": "display_data"
    },
    {
     "data": {
      "text/html": [
       "<style type=\"text/css\">\n",
       "#T_50184_row10_col0, #T_50184_row10_col1, #T_50184_row10_col2, #T_50184_row10_col3, #T_50184_row10_col4, #T_50184_row10_col5, #T_50184_row10_col6, #T_50184_row10_col7 {\n",
       "  background: yellow;\n",
       "}\n",
       "</style>\n",
       "<table id=\"T_50184\">\n",
       "  <thead>\n",
       "    <tr>\n",
       "      <th class=\"blank level0\" >&nbsp;</th>\n",
       "      <th id=\"T_50184_level0_col0\" class=\"col_heading level0 col0\" >Accuracy</th>\n",
       "      <th id=\"T_50184_level0_col1\" class=\"col_heading level0 col1\" >AUC</th>\n",
       "      <th id=\"T_50184_level0_col2\" class=\"col_heading level0 col2\" >Recall</th>\n",
       "      <th id=\"T_50184_level0_col3\" class=\"col_heading level0 col3\" >Prec.</th>\n",
       "      <th id=\"T_50184_level0_col4\" class=\"col_heading level0 col4\" >F1</th>\n",
       "      <th id=\"T_50184_level0_col5\" class=\"col_heading level0 col5\" >Kappa</th>\n",
       "      <th id=\"T_50184_level0_col6\" class=\"col_heading level0 col6\" >MCC</th>\n",
       "      <th id=\"T_50184_level0_col7\" class=\"col_heading level0 col7\" >Log Loss</th>\n",
       "    </tr>\n",
       "    <tr>\n",
       "      <th class=\"index_name level0\" >Fold</th>\n",
       "      <th class=\"blank col0\" >&nbsp;</th>\n",
       "      <th class=\"blank col1\" >&nbsp;</th>\n",
       "      <th class=\"blank col2\" >&nbsp;</th>\n",
       "      <th class=\"blank col3\" >&nbsp;</th>\n",
       "      <th class=\"blank col4\" >&nbsp;</th>\n",
       "      <th class=\"blank col5\" >&nbsp;</th>\n",
       "      <th class=\"blank col6\" >&nbsp;</th>\n",
       "      <th class=\"blank col7\" >&nbsp;</th>\n",
       "    </tr>\n",
       "  </thead>\n",
       "  <tbody>\n",
       "    <tr>\n",
       "      <th id=\"T_50184_level0_row0\" class=\"row_heading level0 row0\" >0</th>\n",
       "      <td id=\"T_50184_row0_col0\" class=\"data row0 col0\" >0.5590</td>\n",
       "      <td id=\"T_50184_row0_col1\" class=\"data row0 col1\" >0.5721</td>\n",
       "      <td id=\"T_50184_row0_col2\" class=\"data row0 col2\" >0.4469</td>\n",
       "      <td id=\"T_50184_row0_col3\" class=\"data row0 col3\" >0.5405</td>\n",
       "      <td id=\"T_50184_row0_col4\" class=\"data row0 col4\" >0.4893</td>\n",
       "      <td id=\"T_50184_row0_col5\" class=\"data row0 col5\" >0.1073</td>\n",
       "      <td id=\"T_50184_row0_col6\" class=\"data row0 col6\" >0.1088</td>\n",
       "      <td id=\"T_50184_row0_col7\" class=\"data row0 col7\" >7.0309</td>\n",
       "    </tr>\n",
       "    <tr>\n",
       "      <th id=\"T_50184_level0_row1\" class=\"row_heading level0 row1\" >1</th>\n",
       "      <td id=\"T_50184_row1_col0\" class=\"data row1 col0\" >0.5792</td>\n",
       "      <td id=\"T_50184_row1_col1\" class=\"data row1 col1\" >0.6064</td>\n",
       "      <td id=\"T_50184_row1_col2\" class=\"data row1 col2\" >0.4860</td>\n",
       "      <td id=\"T_50184_row1_col3\" class=\"data row1 col3\" >0.5637</td>\n",
       "      <td id=\"T_50184_row1_col4\" class=\"data row1 col4\" >0.5220</td>\n",
       "      <td id=\"T_50184_row1_col5\" class=\"data row1 col5\" >0.1499</td>\n",
       "      <td id=\"T_50184_row1_col6\" class=\"data row1 col6\" >0.1512</td>\n",
       "      <td id=\"T_50184_row1_col7\" class=\"data row1 col7\" >6.7082</td>\n",
       "    </tr>\n",
       "    <tr>\n",
       "      <th id=\"T_50184_level0_row2\" class=\"row_heading level0 row2\" >2</th>\n",
       "      <td id=\"T_50184_row2_col0\" class=\"data row2 col0\" >0.6056</td>\n",
       "      <td id=\"T_50184_row2_col1\" class=\"data row2 col1\" >0.6163</td>\n",
       "      <td id=\"T_50184_row2_col2\" class=\"data row2 col2\" >0.5065</td>\n",
       "      <td id=\"T_50184_row2_col3\" class=\"data row2 col3\" >0.5978</td>\n",
       "      <td id=\"T_50184_row2_col4\" class=\"data row2 col4\" >0.5484</td>\n",
       "      <td id=\"T_50184_row2_col5\" class=\"data row2 col5\" >0.2026</td>\n",
       "      <td id=\"T_50184_row2_col6\" class=\"data row2 col6\" >0.2048</td>\n",
       "      <td id=\"T_50184_row2_col7\" class=\"data row2 col7\" >6.2871</td>\n",
       "    </tr>\n",
       "    <tr>\n",
       "      <th id=\"T_50184_level0_row3\" class=\"row_heading level0 row3\" >3</th>\n",
       "      <td id=\"T_50184_row3_col0\" class=\"data row3 col0\" >0.5757</td>\n",
       "      <td id=\"T_50184_row3_col1\" class=\"data row3 col1\" >0.5823</td>\n",
       "      <td id=\"T_50184_row3_col2\" class=\"data row3 col2\" >0.4804</td>\n",
       "      <td id=\"T_50184_row3_col3\" class=\"data row3 col3\" >0.5597</td>\n",
       "      <td id=\"T_50184_row3_col4\" class=\"data row3 col4\" >0.5170</td>\n",
       "      <td id=\"T_50184_row3_col5\" class=\"data row3 col5\" >0.1426</td>\n",
       "      <td id=\"T_50184_row3_col6\" class=\"data row3 col6\" >0.1439</td>\n",
       "      <td id=\"T_50184_row3_col7\" class=\"data row3 col7\" >6.7643</td>\n",
       "    </tr>\n",
       "    <tr>\n",
       "      <th id=\"T_50184_level0_row4\" class=\"row_heading level0 row4\" >4</th>\n",
       "      <td id=\"T_50184_row4_col0\" class=\"data row4 col0\" >0.5739</td>\n",
       "      <td id=\"T_50184_row4_col1\" class=\"data row4 col1\" >0.5878</td>\n",
       "      <td id=\"T_50184_row4_col2\" class=\"data row4 col2\" >0.4488</td>\n",
       "      <td id=\"T_50184_row4_col3\" class=\"data row4 col3\" >0.5618</td>\n",
       "      <td id=\"T_50184_row4_col4\" class=\"data row4 col4\" >0.4990</td>\n",
       "      <td id=\"T_50184_row4_col5\" class=\"data row4 col5\" >0.1364</td>\n",
       "      <td id=\"T_50184_row4_col6\" class=\"data row4 col6\" >0.1390</td>\n",
       "      <td id=\"T_50184_row4_col7\" class=\"data row4 col7\" >6.7924</td>\n",
       "    </tr>\n",
       "    <tr>\n",
       "      <th id=\"T_50184_level0_row5\" class=\"row_heading level0 row5\" >5</th>\n",
       "      <td id=\"T_50184_row5_col0\" class=\"data row5 col0\" >0.5871</td>\n",
       "      <td id=\"T_50184_row5_col1\" class=\"data row5 col1\" >0.6085</td>\n",
       "      <td id=\"T_50184_row5_col2\" class=\"data row5 col2\" >0.5047</td>\n",
       "      <td id=\"T_50184_row5_col3\" class=\"data row5 col3\" >0.5717</td>\n",
       "      <td id=\"T_50184_row5_col4\" class=\"data row5 col4\" >0.5361</td>\n",
       "      <td id=\"T_50184_row5_col5\" class=\"data row5 col5\" >0.1668</td>\n",
       "      <td id=\"T_50184_row5_col6\" class=\"data row5 col6\" >0.1678</td>\n",
       "      <td id=\"T_50184_row5_col7\" class=\"data row5 col7\" >6.5818</td>\n",
       "    </tr>\n",
       "    <tr>\n",
       "      <th id=\"T_50184_level0_row6\" class=\"row_heading level0 row6\" >6</th>\n",
       "      <td id=\"T_50184_row6_col0\" class=\"data row6 col0\" >0.5687</td>\n",
       "      <td id=\"T_50184_row6_col1\" class=\"data row6 col1\" >0.6006</td>\n",
       "      <td id=\"T_50184_row6_col2\" class=\"data row6 col2\" >0.4339</td>\n",
       "      <td id=\"T_50184_row6_col3\" class=\"data row6 col3\" >0.5561</td>\n",
       "      <td id=\"T_50184_row6_col4\" class=\"data row6 col4\" >0.4874</td>\n",
       "      <td id=\"T_50184_row6_col5\" class=\"data row6 col5\" >0.1248</td>\n",
       "      <td id=\"T_50184_row6_col6\" class=\"data row6 col6\" >0.1277</td>\n",
       "      <td id=\"T_50184_row6_col7\" class=\"data row6 col7\" >6.8766</td>\n",
       "    </tr>\n",
       "    <tr>\n",
       "      <th id=\"T_50184_level0_row7\" class=\"row_heading level0 row7\" >7</th>\n",
       "      <td id=\"T_50184_row7_col0\" class=\"data row7 col0\" >0.5951</td>\n",
       "      <td id=\"T_50184_row7_col1\" class=\"data row7 col1\" >0.6208</td>\n",
       "      <td id=\"T_50184_row7_col2\" class=\"data row7 col2\" >0.4730</td>\n",
       "      <td id=\"T_50184_row7_col3\" class=\"data row7 col3\" >0.5893</td>\n",
       "      <td id=\"T_50184_row7_col4\" class=\"data row7 col4\" >0.5248</td>\n",
       "      <td id=\"T_50184_row7_col5\" class=\"data row7 col5\" >0.1793</td>\n",
       "      <td id=\"T_50184_row7_col6\" class=\"data row7 col6\" >0.1826</td>\n",
       "      <td id=\"T_50184_row7_col7\" class=\"data row7 col7\" >6.4555</td>\n",
       "    </tr>\n",
       "    <tr>\n",
       "      <th id=\"T_50184_level0_row8\" class=\"row_heading level0 row8\" >8</th>\n",
       "      <td id=\"T_50184_row8_col0\" class=\"data row8 col0\" >0.5704</td>\n",
       "      <td id=\"T_50184_row8_col1\" class=\"data row8 col1\" >0.5842</td>\n",
       "      <td id=\"T_50184_row8_col2\" class=\"data row8 col2\" >0.4600</td>\n",
       "      <td id=\"T_50184_row8_col3\" class=\"data row8 col3\" >0.5551</td>\n",
       "      <td id=\"T_50184_row8_col4\" class=\"data row8 col4\" >0.5031</td>\n",
       "      <td id=\"T_50184_row8_col5\" class=\"data row8 col5\" >0.1306</td>\n",
       "      <td id=\"T_50184_row8_col6\" class=\"data row8 col6\" >0.1324</td>\n",
       "      <td id=\"T_50184_row8_col7\" class=\"data row8 col7\" >6.8485</td>\n",
       "    </tr>\n",
       "    <tr>\n",
       "      <th id=\"T_50184_level0_row9\" class=\"row_heading level0 row9\" >9</th>\n",
       "      <td id=\"T_50184_row9_col0\" class=\"data row9 col0\" >0.5806</td>\n",
       "      <td id=\"T_50184_row9_col1\" class=\"data row9 col1\" >0.6010</td>\n",
       "      <td id=\"T_50184_row9_col2\" class=\"data row9 col2\" >0.4701</td>\n",
       "      <td id=\"T_50184_row9_col3\" class=\"data row9 col3\" >0.5676</td>\n",
       "      <td id=\"T_50184_row9_col4\" class=\"data row9 col4\" >0.5143</td>\n",
       "      <td id=\"T_50184_row9_col5\" class=\"data row9 col5\" >0.1510</td>\n",
       "      <td id=\"T_50184_row9_col6\" class=\"data row9 col6\" >0.1531</td>\n",
       "      <td id=\"T_50184_row9_col7\" class=\"data row9 col7\" >6.6860</td>\n",
       "    </tr>\n",
       "    <tr>\n",
       "      <th id=\"T_50184_level0_row10\" class=\"row_heading level0 row10\" >Mean</th>\n",
       "      <td id=\"T_50184_row10_col0\" class=\"data row10 col0\" >0.5795</td>\n",
       "      <td id=\"T_50184_row10_col1\" class=\"data row10 col1\" >0.5980</td>\n",
       "      <td id=\"T_50184_row10_col2\" class=\"data row10 col2\" >0.4710</td>\n",
       "      <td id=\"T_50184_row10_col3\" class=\"data row10 col3\" >0.5663</td>\n",
       "      <td id=\"T_50184_row10_col4\" class=\"data row10 col4\" >0.5141</td>\n",
       "      <td id=\"T_50184_row10_col5\" class=\"data row10 col5\" >0.1491</td>\n",
       "      <td id=\"T_50184_row10_col6\" class=\"data row10 col6\" >0.1511</td>\n",
       "      <td id=\"T_50184_row10_col7\" class=\"data row10 col7\" >6.7031</td>\n",
       "    </tr>\n",
       "    <tr>\n",
       "      <th id=\"T_50184_level0_row11\" class=\"row_heading level0 row11\" >Std</th>\n",
       "      <td id=\"T_50184_row11_col0\" class=\"data row11 col0\" >0.0129</td>\n",
       "      <td id=\"T_50184_row11_col1\" class=\"data row11 col1\" >0.0150</td>\n",
       "      <td id=\"T_50184_row11_col2\" class=\"data row11 col2\" >0.0230</td>\n",
       "      <td id=\"T_50184_row11_col3\" class=\"data row11 col3\" >0.0159</td>\n",
       "      <td id=\"T_50184_row11_col4\" class=\"data row11 col4\" >0.0188</td>\n",
       "      <td id=\"T_50184_row11_col5\" class=\"data row11 col5\" >0.0264</td>\n",
       "      <td id=\"T_50184_row11_col6\" class=\"data row11 col6\" >0.0265</td>\n",
       "      <td id=\"T_50184_row11_col7\" class=\"data row11 col7\" >0.2049</td>\n",
       "    </tr>\n",
       "  </tbody>\n",
       "</table>\n"
      ],
      "text/plain": [
       "<pandas.io.formats.style.Styler at 0x13adbaa90>"
      ]
     },
     "metadata": {},
     "output_type": "display_data"
    },
    {
     "data": {
      "application/vnd.jupyter.widget-view+json": {
       "model_id": "",
       "version_major": 2,
       "version_minor": 0
      },
      "text/plain": [
       "Processing:   0%|          | 0/4 [00:00<?, ?it/s]"
      ]
     },
     "metadata": {},
     "output_type": "display_data"
    }
   ],
   "source": [
    "model_lr = exp.create_model('lr', verbose=True)"
   ]
  },
  {
   "cell_type": "code",
   "execution_count": 46,
   "id": "3900f106-2621-4046-9d82-17447a19a4a0",
   "metadata": {
    "tags": []
   },
   "outputs": [
    {
     "data": {
      "text/html": [
       "<style type=\"text/css\">\n",
       "</style>\n",
       "<table id=\"T_26df1\">\n",
       "  <thead>\n",
       "    <tr>\n",
       "      <th class=\"blank level0\" >&nbsp;</th>\n",
       "      <th id=\"T_26df1_level0_col0\" class=\"col_heading level0 col0\" >Model</th>\n",
       "      <th id=\"T_26df1_level0_col1\" class=\"col_heading level0 col1\" >Accuracy</th>\n",
       "      <th id=\"T_26df1_level0_col2\" class=\"col_heading level0 col2\" >AUC</th>\n",
       "      <th id=\"T_26df1_level0_col3\" class=\"col_heading level0 col3\" >Recall</th>\n",
       "      <th id=\"T_26df1_level0_col4\" class=\"col_heading level0 col4\" >Prec.</th>\n",
       "      <th id=\"T_26df1_level0_col5\" class=\"col_heading level0 col5\" >F1</th>\n",
       "      <th id=\"T_26df1_level0_col6\" class=\"col_heading level0 col6\" >Kappa</th>\n",
       "      <th id=\"T_26df1_level0_col7\" class=\"col_heading level0 col7\" >MCC</th>\n",
       "      <th id=\"T_26df1_level0_col8\" class=\"col_heading level0 col8\" >Log Loss</th>\n",
       "    </tr>\n",
       "  </thead>\n",
       "  <tbody>\n",
       "    <tr>\n",
       "      <th id=\"T_26df1_level0_row0\" class=\"row_heading level0 row0\" >0</th>\n",
       "      <td id=\"T_26df1_row0_col0\" class=\"data row0 col0\" >Logistic Regression</td>\n",
       "      <td id=\"T_26df1_row0_col1\" class=\"data row0 col1\" >0.5760</td>\n",
       "      <td id=\"T_26df1_row0_col2\" class=\"data row0 col2\" >0.5945</td>\n",
       "      <td id=\"T_26df1_row0_col3\" class=\"data row0 col3\" >0.4672</td>\n",
       "      <td id=\"T_26df1_row0_col4\" class=\"data row0 col4\" >0.5919</td>\n",
       "      <td id=\"T_26df1_row0_col5\" class=\"data row0 col5\" >0.5222</td>\n",
       "      <td id=\"T_26df1_row0_col6\" class=\"data row0 col6\" >0.1506</td>\n",
       "      <td id=\"T_26df1_row0_col7\" class=\"data row0 col7\" >0.1540</td>\n",
       "      <td id=\"T_26df1_row0_col8\" class=\"data row0 col8\" >6.7589</td>\n",
       "    </tr>\n",
       "  </tbody>\n",
       "</table>\n"
      ],
      "text/plain": [
       "<pandas.io.formats.style.Styler at 0x13b8cb640>"
      ]
     },
     "metadata": {},
     "output_type": "display_data"
    }
   ],
   "source": [
    "predicted_ = exp.predict_model(model_lr, data = df_test,)"
   ]
  },
  {
   "cell_type": "code",
   "execution_count": null,
   "id": "8f3000ce-f2a7-45da-8906-fe009d151e0f",
   "metadata": {
    "tags": []
   },
   "outputs": [],
   "source": [
    "exp.get_metrics()"
   ]
  },
  {
   "cell_type": "code",
   "execution_count": null,
   "id": "c17f3205-89ff-4c4e-bf15-fc09f4c97a92",
   "metadata": {
    "tags": []
   },
   "outputs": [],
   "source": [
    "log_loss(save['shot_made_flag'],save['prediction_label'])"
   ]
  },
  {
   "cell_type": "code",
   "execution_count": null,
   "id": "16b3bf95-193e-428e-ab49-eaee4bbb8e0c",
   "metadata": {
    "tags": []
   },
   "outputs": [],
   "source": [
    "save['shot_made_flag']"
   ]
  },
  {
   "cell_type": "code",
   "execution_count": null,
   "id": "4545149c-9366-4fcc-a649-0e5ddface388",
   "metadata": {
    "tags": []
   },
   "outputs": [],
   "source": [
    "save = exp.predict_model(model_lr, data = df_test,)"
   ]
  },
  {
   "cell_type": "code",
   "execution_count": 62,
   "id": "62d7cd9e-21cb-4c45-9580-2eaeeb56b5c4",
   "metadata": {
    "tags": []
   },
   "outputs": [
    {
     "data": {
      "text/html": [],
      "text/plain": [
       "<IPython.core.display.HTML object>"
      ]
     },
     "metadata": {},
     "output_type": "display_data"
    },
    {
     "data": {
      "text/html": [
       "<style type=\"text/css\">\n",
       "#T_9f5cd th {\n",
       "  text-align: left;\n",
       "}\n",
       "#T_9f5cd_row0_col0, #T_9f5cd_row0_col2, #T_9f5cd_row0_col3, #T_9f5cd_row0_col5, #T_9f5cd_row0_col8, #T_9f5cd_row1_col0, #T_9f5cd_row1_col1, #T_9f5cd_row1_col2, #T_9f5cd_row1_col3, #T_9f5cd_row1_col4, #T_9f5cd_row1_col5, #T_9f5cd_row1_col6, #T_9f5cd_row1_col7, #T_9f5cd_row1_col8, #T_9f5cd_row2_col0, #T_9f5cd_row2_col1, #T_9f5cd_row2_col2, #T_9f5cd_row2_col3, #T_9f5cd_row2_col4, #T_9f5cd_row2_col5, #T_9f5cd_row2_col6, #T_9f5cd_row2_col7, #T_9f5cd_row2_col8, #T_9f5cd_row3_col0, #T_9f5cd_row3_col1, #T_9f5cd_row3_col2, #T_9f5cd_row3_col3, #T_9f5cd_row3_col4, #T_9f5cd_row3_col5, #T_9f5cd_row3_col6, #T_9f5cd_row3_col7, #T_9f5cd_row3_col8, #T_9f5cd_row4_col0, #T_9f5cd_row4_col1, #T_9f5cd_row4_col2, #T_9f5cd_row4_col3, #T_9f5cd_row4_col4, #T_9f5cd_row4_col5, #T_9f5cd_row4_col6, #T_9f5cd_row4_col7, #T_9f5cd_row4_col8, #T_9f5cd_row5_col0, #T_9f5cd_row5_col1, #T_9f5cd_row5_col2, #T_9f5cd_row5_col3, #T_9f5cd_row5_col4, #T_9f5cd_row5_col5, #T_9f5cd_row5_col6, #T_9f5cd_row5_col7, #T_9f5cd_row5_col8, #T_9f5cd_row6_col0, #T_9f5cd_row6_col1, #T_9f5cd_row6_col3, #T_9f5cd_row6_col4, #T_9f5cd_row6_col5, #T_9f5cd_row6_col6, #T_9f5cd_row6_col7, #T_9f5cd_row6_col8, #T_9f5cd_row7_col0, #T_9f5cd_row7_col1, #T_9f5cd_row7_col2, #T_9f5cd_row7_col3, #T_9f5cd_row7_col4, #T_9f5cd_row7_col5, #T_9f5cd_row7_col6, #T_9f5cd_row7_col7, #T_9f5cd_row7_col8, #T_9f5cd_row8_col0, #T_9f5cd_row8_col1, #T_9f5cd_row8_col2, #T_9f5cd_row8_col3, #T_9f5cd_row8_col4, #T_9f5cd_row8_col5, #T_9f5cd_row8_col6, #T_9f5cd_row8_col7, #T_9f5cd_row8_col8, #T_9f5cd_row9_col0, #T_9f5cd_row9_col1, #T_9f5cd_row9_col2, #T_9f5cd_row9_col3, #T_9f5cd_row9_col4, #T_9f5cd_row9_col5, #T_9f5cd_row9_col6, #T_9f5cd_row9_col7, #T_9f5cd_row10_col0, #T_9f5cd_row10_col1, #T_9f5cd_row10_col2, #T_9f5cd_row10_col3, #T_9f5cd_row10_col4, #T_9f5cd_row10_col5, #T_9f5cd_row10_col6, #T_9f5cd_row10_col7, #T_9f5cd_row10_col8, #T_9f5cd_row11_col0, #T_9f5cd_row11_col1, #T_9f5cd_row11_col2, #T_9f5cd_row11_col4, #T_9f5cd_row11_col6, #T_9f5cd_row11_col7, #T_9f5cd_row11_col8, #T_9f5cd_row12_col0, #T_9f5cd_row12_col1, #T_9f5cd_row12_col2, #T_9f5cd_row12_col3, #T_9f5cd_row12_col4, #T_9f5cd_row12_col5, #T_9f5cd_row12_col6, #T_9f5cd_row12_col7, #T_9f5cd_row12_col8, #T_9f5cd_row13_col0, #T_9f5cd_row13_col1, #T_9f5cd_row13_col2, #T_9f5cd_row13_col3, #T_9f5cd_row13_col4, #T_9f5cd_row13_col5, #T_9f5cd_row13_col6, #T_9f5cd_row13_col7, #T_9f5cd_row13_col8, #T_9f5cd_row14_col0, #T_9f5cd_row14_col1, #T_9f5cd_row14_col2, #T_9f5cd_row14_col3, #T_9f5cd_row14_col4, #T_9f5cd_row14_col5, #T_9f5cd_row14_col6, #T_9f5cd_row14_col7, #T_9f5cd_row14_col8 {\n",
       "  text-align: left;\n",
       "}\n",
       "#T_9f5cd_row0_col1, #T_9f5cd_row0_col4, #T_9f5cd_row0_col6, #T_9f5cd_row0_col7, #T_9f5cd_row6_col2, #T_9f5cd_row9_col8, #T_9f5cd_row11_col3, #T_9f5cd_row11_col5 {\n",
       "  text-align: left;\n",
       "  background-color: yellow;\n",
       "}\n",
       "#T_9f5cd_row0_col9, #T_9f5cd_row1_col9, #T_9f5cd_row2_col9, #T_9f5cd_row4_col9, #T_9f5cd_row5_col9, #T_9f5cd_row6_col9, #T_9f5cd_row7_col9, #T_9f5cd_row8_col9, #T_9f5cd_row9_col9, #T_9f5cd_row10_col9, #T_9f5cd_row11_col9, #T_9f5cd_row12_col9, #T_9f5cd_row13_col9, #T_9f5cd_row14_col9 {\n",
       "  text-align: left;\n",
       "  background-color: lightgrey;\n",
       "}\n",
       "#T_9f5cd_row3_col9 {\n",
       "  text-align: left;\n",
       "  background-color: yellow;\n",
       "  background-color: lightgrey;\n",
       "}\n",
       "</style>\n",
       "<table id=\"T_9f5cd\">\n",
       "  <thead>\n",
       "    <tr>\n",
       "      <th class=\"blank level0\" >&nbsp;</th>\n",
       "      <th id=\"T_9f5cd_level0_col0\" class=\"col_heading level0 col0\" >Model</th>\n",
       "      <th id=\"T_9f5cd_level0_col1\" class=\"col_heading level0 col1\" >Accuracy</th>\n",
       "      <th id=\"T_9f5cd_level0_col2\" class=\"col_heading level0 col2\" >AUC</th>\n",
       "      <th id=\"T_9f5cd_level0_col3\" class=\"col_heading level0 col3\" >Recall</th>\n",
       "      <th id=\"T_9f5cd_level0_col4\" class=\"col_heading level0 col4\" >Prec.</th>\n",
       "      <th id=\"T_9f5cd_level0_col5\" class=\"col_heading level0 col5\" >F1</th>\n",
       "      <th id=\"T_9f5cd_level0_col6\" class=\"col_heading level0 col6\" >Kappa</th>\n",
       "      <th id=\"T_9f5cd_level0_col7\" class=\"col_heading level0 col7\" >MCC</th>\n",
       "      <th id=\"T_9f5cd_level0_col8\" class=\"col_heading level0 col8\" >Log Loss</th>\n",
       "      <th id=\"T_9f5cd_level0_col9\" class=\"col_heading level0 col9\" >TT (Sec)</th>\n",
       "    </tr>\n",
       "  </thead>\n",
       "  <tbody>\n",
       "    <tr>\n",
       "      <th id=\"T_9f5cd_level0_row0\" class=\"row_heading level0 row0\" >ada</th>\n",
       "      <td id=\"T_9f5cd_row0_col0\" class=\"data row0 col0\" >Ada Boost Classifier</td>\n",
       "      <td id=\"T_9f5cd_row0_col1\" class=\"data row0 col1\" >0.5912</td>\n",
       "      <td id=\"T_9f5cd_row0_col2\" class=\"data row0 col2\" >0.5936</td>\n",
       "      <td id=\"T_9f5cd_row0_col3\" class=\"data row0 col3\" >0.3677</td>\n",
       "      <td id=\"T_9f5cd_row0_col4\" class=\"data row0 col4\" >0.6121</td>\n",
       "      <td id=\"T_9f5cd_row0_col5\" class=\"data row0 col5\" >0.4590</td>\n",
       "      <td id=\"T_9f5cd_row0_col6\" class=\"data row0 col6\" >0.1625</td>\n",
       "      <td id=\"T_9f5cd_row0_col7\" class=\"data row0 col7\" >0.1762</td>\n",
       "      <td id=\"T_9f5cd_row0_col8\" class=\"data row0 col8\" >6.5179</td>\n",
       "      <td id=\"T_9f5cd_row0_col9\" class=\"data row0 col9\" >0.1990</td>\n",
       "    </tr>\n",
       "    <tr>\n",
       "      <th id=\"T_9f5cd_level0_row1\" class=\"row_heading level0 row1\" >gbc</th>\n",
       "      <td id=\"T_9f5cd_row1_col0\" class=\"data row1 col0\" >Gradient Boosting Classifier</td>\n",
       "      <td id=\"T_9f5cd_row1_col1\" class=\"data row1 col1\" >0.5900</td>\n",
       "      <td id=\"T_9f5cd_row1_col2\" class=\"data row1 col2\" >0.5980</td>\n",
       "      <td id=\"T_9f5cd_row1_col3\" class=\"data row1 col3\" >0.3783</td>\n",
       "      <td id=\"T_9f5cd_row1_col4\" class=\"data row1 col4\" >0.6060</td>\n",
       "      <td id=\"T_9f5cd_row1_col5\" class=\"data row1 col5\" >0.4656</td>\n",
       "      <td id=\"T_9f5cd_row1_col6\" class=\"data row1 col6\" >0.1612</td>\n",
       "      <td id=\"T_9f5cd_row1_col7\" class=\"data row1 col7\" >0.1730</td>\n",
       "      <td id=\"T_9f5cd_row1_col8\" class=\"data row1 col8\" >6.5361</td>\n",
       "      <td id=\"T_9f5cd_row1_col9\" class=\"data row1 col9\" >0.2710</td>\n",
       "    </tr>\n",
       "    <tr>\n",
       "      <th id=\"T_9f5cd_level0_row2\" class=\"row_heading level0 row2\" >lr</th>\n",
       "      <td id=\"T_9f5cd_row2_col0\" class=\"data row2 col0\" >Logistic Regression</td>\n",
       "      <td id=\"T_9f5cd_row2_col1\" class=\"data row2 col1\" >0.5795</td>\n",
       "      <td id=\"T_9f5cd_row2_col2\" class=\"data row2 col2\" >0.5980</td>\n",
       "      <td id=\"T_9f5cd_row2_col3\" class=\"data row2 col3\" >0.4710</td>\n",
       "      <td id=\"T_9f5cd_row2_col4\" class=\"data row2 col4\" >0.5663</td>\n",
       "      <td id=\"T_9f5cd_row2_col5\" class=\"data row2 col5\" >0.5141</td>\n",
       "      <td id=\"T_9f5cd_row2_col6\" class=\"data row2 col6\" >0.1491</td>\n",
       "      <td id=\"T_9f5cd_row2_col7\" class=\"data row2 col7\" >0.1511</td>\n",
       "      <td id=\"T_9f5cd_row2_col8\" class=\"data row2 col8\" >6.7031</td>\n",
       "      <td id=\"T_9f5cd_row2_col9\" class=\"data row2 col9\" >0.6400</td>\n",
       "    </tr>\n",
       "    <tr>\n",
       "      <th id=\"T_9f5cd_level0_row3\" class=\"row_heading level0 row3\" >ridge</th>\n",
       "      <td id=\"T_9f5cd_row3_col0\" class=\"data row3 col0\" >Ridge Classifier</td>\n",
       "      <td id=\"T_9f5cd_row3_col1\" class=\"data row3 col1\" >0.5774</td>\n",
       "      <td id=\"T_9f5cd_row3_col2\" class=\"data row3 col2\" >0.0000</td>\n",
       "      <td id=\"T_9f5cd_row3_col3\" class=\"data row3 col3\" >0.4731</td>\n",
       "      <td id=\"T_9f5cd_row3_col4\" class=\"data row3 col4\" >0.5630</td>\n",
       "      <td id=\"T_9f5cd_row3_col5\" class=\"data row3 col5\" >0.5140</td>\n",
       "      <td id=\"T_9f5cd_row3_col6\" class=\"data row3 col6\" >0.1452</td>\n",
       "      <td id=\"T_9f5cd_row3_col7\" class=\"data row3 col7\" >0.1470</td>\n",
       "      <td id=\"T_9f5cd_row3_col8\" class=\"data row3 col8\" >6.7368</td>\n",
       "      <td id=\"T_9f5cd_row3_col9\" class=\"data row3 col9\" >0.1260</td>\n",
       "    </tr>\n",
       "    <tr>\n",
       "      <th id=\"T_9f5cd_level0_row4\" class=\"row_heading level0 row4\" >lda</th>\n",
       "      <td id=\"T_9f5cd_row4_col0\" class=\"data row4 col0\" >Linear Discriminant Analysis</td>\n",
       "      <td id=\"T_9f5cd_row4_col1\" class=\"data row4 col1\" >0.5771</td>\n",
       "      <td id=\"T_9f5cd_row4_col2\" class=\"data row4 col2\" >0.5993</td>\n",
       "      <td id=\"T_9f5cd_row4_col3\" class=\"data row4 col3\" >0.4729</td>\n",
       "      <td id=\"T_9f5cd_row4_col4\" class=\"data row4 col4\" >0.5625</td>\n",
       "      <td id=\"T_9f5cd_row4_col5\" class=\"data row4 col5\" >0.5137</td>\n",
       "      <td id=\"T_9f5cd_row4_col6\" class=\"data row4 col6\" >0.1445</td>\n",
       "      <td id=\"T_9f5cd_row4_col7\" class=\"data row4 col7\" >0.1463</td>\n",
       "      <td id=\"T_9f5cd_row4_col8\" class=\"data row4 col8\" >6.7424</td>\n",
       "      <td id=\"T_9f5cd_row4_col9\" class=\"data row4 col9\" >0.1420</td>\n",
       "    </tr>\n",
       "    <tr>\n",
       "      <th id=\"T_9f5cd_level0_row5\" class=\"row_heading level0 row5\" >nb</th>\n",
       "      <td id=\"T_9f5cd_row5_col0\" class=\"data row5 col0\" >Naive Bayes</td>\n",
       "      <td id=\"T_9f5cd_row5_col1\" class=\"data row5 col1\" >0.5755</td>\n",
       "      <td id=\"T_9f5cd_row5_col2\" class=\"data row5 col2\" >0.5967</td>\n",
       "      <td id=\"T_9f5cd_row5_col3\" class=\"data row5 col3\" >0.5029</td>\n",
       "      <td id=\"T_9f5cd_row5_col4\" class=\"data row5 col4\" >0.5564</td>\n",
       "      <td id=\"T_9f5cd_row5_col5\" class=\"data row5 col5\" >0.5281</td>\n",
       "      <td id=\"T_9f5cd_row5_col6\" class=\"data row5 col6\" >0.1442</td>\n",
       "      <td id=\"T_9f5cd_row5_col7\" class=\"data row5 col7\" >0.1448</td>\n",
       "      <td id=\"T_9f5cd_row5_col8\" class=\"data row5 col8\" >6.7677</td>\n",
       "      <td id=\"T_9f5cd_row5_col9\" class=\"data row5 col9\" >0.1410</td>\n",
       "    </tr>\n",
       "    <tr>\n",
       "      <th id=\"T_9f5cd_level0_row6\" class=\"row_heading level0 row6\" >qda</th>\n",
       "      <td id=\"T_9f5cd_row6_col0\" class=\"data row6 col0\" >Quadratic Discriminant Analysis</td>\n",
       "      <td id=\"T_9f5cd_row6_col1\" class=\"data row6 col1\" >0.5728</td>\n",
       "      <td id=\"T_9f5cd_row6_col2\" class=\"data row6 col2\" >0.6003</td>\n",
       "      <td id=\"T_9f5cd_row6_col3\" class=\"data row6 col3\" >0.5142</td>\n",
       "      <td id=\"T_9f5cd_row6_col4\" class=\"data row6 col4\" >0.5517</td>\n",
       "      <td id=\"T_9f5cd_row6_col5\" class=\"data row6 col5\" >0.5321</td>\n",
       "      <td id=\"T_9f5cd_row6_col6\" class=\"data row6 col6\" >0.1399</td>\n",
       "      <td id=\"T_9f5cd_row6_col7\" class=\"data row6 col7\" >0.1403</td>\n",
       "      <td id=\"T_9f5cd_row6_col8\" class=\"data row6 col8\" >6.8112</td>\n",
       "      <td id=\"T_9f5cd_row6_col9\" class=\"data row6 col9\" >0.1320</td>\n",
       "    </tr>\n",
       "    <tr>\n",
       "      <th id=\"T_9f5cd_level0_row7\" class=\"row_heading level0 row7\" >lightgbm</th>\n",
       "      <td id=\"T_9f5cd_row7_col0\" class=\"data row7 col0\" >Light Gradient Boosting Machine</td>\n",
       "      <td id=\"T_9f5cd_row7_col1\" class=\"data row7 col1\" >0.5715</td>\n",
       "      <td id=\"T_9f5cd_row7_col2\" class=\"data row7 col2\" >0.5882</td>\n",
       "      <td id=\"T_9f5cd_row7_col3\" class=\"data row7 col3\" >0.4580</td>\n",
       "      <td id=\"T_9f5cd_row7_col4\" class=\"data row7 col4\" >0.5567</td>\n",
       "      <td id=\"T_9f5cd_row7_col5\" class=\"data row7 col5\" >0.5023</td>\n",
       "      <td id=\"T_9f5cd_row7_col6\" class=\"data row7 col6\" >0.1325</td>\n",
       "      <td id=\"T_9f5cd_row7_col7\" class=\"data row7 col7\" >0.1345</td>\n",
       "      <td id=\"T_9f5cd_row7_col8\" class=\"data row7 col8\" >6.8308</td>\n",
       "      <td id=\"T_9f5cd_row7_col9\" class=\"data row7 col9\" >0.2080</td>\n",
       "    </tr>\n",
       "    <tr>\n",
       "      <th id=\"T_9f5cd_level0_row8\" class=\"row_heading level0 row8\" >rf</th>\n",
       "      <td id=\"T_9f5cd_row8_col0\" class=\"data row8 col0\" >Random Forest Classifier</td>\n",
       "      <td id=\"T_9f5cd_row8_col1\" class=\"data row8 col1\" >0.5626</td>\n",
       "      <td id=\"T_9f5cd_row8_col2\" class=\"data row8 col2\" >0.5755</td>\n",
       "      <td id=\"T_9f5cd_row8_col3\" class=\"data row8 col3\" >0.5092</td>\n",
       "      <td id=\"T_9f5cd_row8_col4\" class=\"data row8 col4\" >0.5393</td>\n",
       "      <td id=\"T_9f5cd_row8_col5\" class=\"data row8 col5\" >0.5236</td>\n",
       "      <td id=\"T_9f5cd_row8_col6\" class=\"data row8 col6\" >0.1199</td>\n",
       "      <td id=\"T_9f5cd_row8_col7\" class=\"data row8 col7\" >0.1201</td>\n",
       "      <td id=\"T_9f5cd_row8_col8\" class=\"data row8 col8\" >6.9740</td>\n",
       "      <td id=\"T_9f5cd_row8_col9\" class=\"data row8 col9\" >0.4010</td>\n",
       "    </tr>\n",
       "    <tr>\n",
       "      <th id=\"T_9f5cd_level0_row9\" class=\"row_heading level0 row9\" >xgboost</th>\n",
       "      <td id=\"T_9f5cd_row9_col0\" class=\"data row9 col0\" >Extreme Gradient Boosting</td>\n",
       "      <td id=\"T_9f5cd_row9_col1\" class=\"data row9 col1\" >0.5611</td>\n",
       "      <td id=\"T_9f5cd_row9_col2\" class=\"data row9 col2\" >0.5763</td>\n",
       "      <td id=\"T_9f5cd_row9_col3\" class=\"data row9 col3\" >0.5206</td>\n",
       "      <td id=\"T_9f5cd_row9_col4\" class=\"data row9 col4\" >0.5368</td>\n",
       "      <td id=\"T_9f5cd_row9_col5\" class=\"data row9 col5\" >0.5284</td>\n",
       "      <td id=\"T_9f5cd_row9_col6\" class=\"data row9 col6\" >0.1182</td>\n",
       "      <td id=\"T_9f5cd_row9_col7\" class=\"data row9 col7\" >0.1183</td>\n",
       "      <td id=\"T_9f5cd_row9_col8\" class=\"data row9 col8\" >15.8181</td>\n",
       "      <td id=\"T_9f5cd_row9_col9\" class=\"data row9 col9\" >0.2550</td>\n",
       "    </tr>\n",
       "    <tr>\n",
       "      <th id=\"T_9f5cd_level0_row10\" class=\"row_heading level0 row10\" >et</th>\n",
       "      <td id=\"T_9f5cd_row10_col0\" class=\"data row10 col0\" >Extra Trees Classifier</td>\n",
       "      <td id=\"T_9f5cd_row10_col1\" class=\"data row10 col1\" >0.5559</td>\n",
       "      <td id=\"T_9f5cd_row10_col2\" class=\"data row10 col2\" >0.5692</td>\n",
       "      <td id=\"T_9f5cd_row10_col3\" class=\"data row10 col3\" >0.5191</td>\n",
       "      <td id=\"T_9f5cd_row10_col4\" class=\"data row10 col4\" >0.5308</td>\n",
       "      <td id=\"T_9f5cd_row10_col5\" class=\"data row10 col5\" >0.5247</td>\n",
       "      <td id=\"T_9f5cd_row10_col6\" class=\"data row10 col6\" >0.1080</td>\n",
       "      <td id=\"T_9f5cd_row10_col7\" class=\"data row10 col7\" >0.1081</td>\n",
       "      <td id=\"T_9f5cd_row10_col8\" class=\"data row10 col8\" >7.0806</td>\n",
       "      <td id=\"T_9f5cd_row10_col9\" class=\"data row10 col9\" >0.4860</td>\n",
       "    </tr>\n",
       "    <tr>\n",
       "      <th id=\"T_9f5cd_level0_row11\" class=\"row_heading level0 row11\" >dt</th>\n",
       "      <td id=\"T_9f5cd_row11_col0\" class=\"data row11 col0\" >Decision Tree Classifier</td>\n",
       "      <td id=\"T_9f5cd_row11_col1\" class=\"data row11 col1\" >0.5442</td>\n",
       "      <td id=\"T_9f5cd_row11_col2\" class=\"data row11 col2\" >0.5307</td>\n",
       "      <td id=\"T_9f5cd_row11_col3\" class=\"data row11 col3\" >0.5668</td>\n",
       "      <td id=\"T_9f5cd_row11_col4\" class=\"data row11 col4\" >0.5162</td>\n",
       "      <td id=\"T_9f5cd_row11_col5\" class=\"data row11 col5\" >0.5402</td>\n",
       "      <td id=\"T_9f5cd_row11_col6\" class=\"data row11 col6\" >0.0903</td>\n",
       "      <td id=\"T_9f5cd_row11_col7\" class=\"data row11 col7\" >0.0908</td>\n",
       "      <td id=\"T_9f5cd_row11_col8\" class=\"data row11 col8\" >7.2659</td>\n",
       "      <td id=\"T_9f5cd_row11_col9\" class=\"data row11 col9\" >0.1470</td>\n",
       "    </tr>\n",
       "    <tr>\n",
       "      <th id=\"T_9f5cd_level0_row12\" class=\"row_heading level0 row12\" >knn</th>\n",
       "      <td id=\"T_9f5cd_row12_col0\" class=\"data row12 col0\" >K Neighbors Classifier</td>\n",
       "      <td id=\"T_9f5cd_row12_col1\" class=\"data row12 col1\" >0.5339</td>\n",
       "      <td id=\"T_9f5cd_row12_col2\" class=\"data row12 col2\" >0.5456</td>\n",
       "      <td id=\"T_9f5cd_row12_col3\" class=\"data row12 col3\" >0.4749</td>\n",
       "      <td id=\"T_9f5cd_row12_col4\" class=\"data row12 col4\" >0.5075</td>\n",
       "      <td id=\"T_9f5cd_row12_col5\" class=\"data row12 col5\" >0.4906</td>\n",
       "      <td id=\"T_9f5cd_row12_col6\" class=\"data row12 col6\" >0.0620</td>\n",
       "      <td id=\"T_9f5cd_row12_col7\" class=\"data row12 col7\" >0.0621</td>\n",
       "      <td id=\"T_9f5cd_row12_col8\" class=\"data row12 col8\" >7.4302</td>\n",
       "      <td id=\"T_9f5cd_row12_col9\" class=\"data row12 col9\" >0.1550</td>\n",
       "    </tr>\n",
       "    <tr>\n",
       "      <th id=\"T_9f5cd_level0_row13\" class=\"row_heading level0 row13\" >svm</th>\n",
       "      <td id=\"T_9f5cd_row13_col0\" class=\"data row13 col0\" >SVM - Linear Kernel</td>\n",
       "      <td id=\"T_9f5cd_row13_col1\" class=\"data row13 col1\" >0.5332</td>\n",
       "      <td id=\"T_9f5cd_row13_col2\" class=\"data row13 col2\" >0.0000</td>\n",
       "      <td id=\"T_9f5cd_row13_col3\" class=\"data row13 col3\" >0.3924</td>\n",
       "      <td id=\"T_9f5cd_row13_col4\" class=\"data row13 col4\" >0.3283</td>\n",
       "      <td id=\"T_9f5cd_row13_col5\" class=\"data row13 col5\" >0.3195</td>\n",
       "      <td id=\"T_9f5cd_row13_col6\" class=\"data row13 col6\" >0.0517</td>\n",
       "      <td id=\"T_9f5cd_row13_col7\" class=\"data row13 col7\" >0.0670</td>\n",
       "      <td id=\"T_9f5cd_row13_col8\" class=\"data row13 col8\" >7.4414</td>\n",
       "      <td id=\"T_9f5cd_row13_col9\" class=\"data row13 col9\" >0.1440</td>\n",
       "    </tr>\n",
       "    <tr>\n",
       "      <th id=\"T_9f5cd_level0_row14\" class=\"row_heading level0 row14\" >dummy</th>\n",
       "      <td id=\"T_9f5cd_row14_col0\" class=\"data row14 col0\" >Dummy Classifier</td>\n",
       "      <td id=\"T_9f5cd_row14_col1\" class=\"data row14 col1\" >0.5273</td>\n",
       "      <td id=\"T_9f5cd_row14_col2\" class=\"data row14 col2\" >0.5000</td>\n",
       "      <td id=\"T_9f5cd_row14_col3\" class=\"data row14 col3\" >0.0000</td>\n",
       "      <td id=\"T_9f5cd_row14_col4\" class=\"data row14 col4\" >0.0000</td>\n",
       "      <td id=\"T_9f5cd_row14_col5\" class=\"data row14 col5\" >0.0000</td>\n",
       "      <td id=\"T_9f5cd_row14_col6\" class=\"data row14 col6\" >0.0000</td>\n",
       "      <td id=\"T_9f5cd_row14_col7\" class=\"data row14 col7\" >0.0000</td>\n",
       "      <td id=\"T_9f5cd_row14_col8\" class=\"data row14 col8\" >7.5354</td>\n",
       "      <td id=\"T_9f5cd_row14_col9\" class=\"data row14 col9\" >0.1780</td>\n",
       "    </tr>\n",
       "  </tbody>\n",
       "</table>\n"
      ],
      "text/plain": [
       "<pandas.io.formats.style.Styler at 0x13b3f55e0>"
      ]
     },
     "metadata": {},
     "output_type": "display_data"
    },
    {
     "data": {
      "application/vnd.jupyter.widget-view+json": {
       "model_id": "",
       "version_major": 2,
       "version_minor": 0
      },
      "text/plain": [
       "Processing:   0%|          | 0/65 [00:00<?, ?it/s]"
      ]
     },
     "metadata": {},
     "output_type": "display_data"
    }
   ],
   "source": [
    "best_md = exp.compare_models(verbose=True)"
   ]
  },
  {
   "cell_type": "code",
   "execution_count": null,
   "id": "a64ced83-67ba-4238-8d25-b30d6c6525d7",
   "metadata": {
    "tags": []
   },
   "outputs": [],
   "source": [
    "even_better_md = exp.tune_model(best_md, verbose=True)"
   ]
  },
  {
   "cell_type": "code",
   "execution_count": null,
   "id": "82e54d57-3054-41e5-bbb4-5f1500e63bb1",
   "metadata": {
    "tags": []
   },
   "outputs": [],
   "source": [
    "even_better_md"
   ]
  },
  {
   "cell_type": "code",
   "execution_count": null,
   "id": "9e674eca-4c39-4604-8c91-15888a31c766",
   "metadata": {
    "tags": []
   },
   "outputs": [],
   "source": [
    "best_md"
   ]
  },
  {
   "cell_type": "code",
   "execution_count": null,
   "id": "f87e4783-55fa-43ef-9acd-7d4070aeb463",
   "metadata": {
    "tags": []
   },
   "outputs": [],
   "source": [
    "help(best_md)"
   ]
  },
  {
   "cell_type": "code",
   "execution_count": 51,
   "id": "2685f9d5-3e6b-44b8-b49c-e81bb5f92e55",
   "metadata": {
    "tags": []
   },
   "outputs": [],
   "source": [
    "report = classification_report(predicted_['shot_made_flag'],predicted_['prediction_label'],output_dict=True)"
   ]
  },
  {
   "cell_type": "code",
   "execution_count": 47,
   "id": "85e5acd5-df9b-48c0-877d-771e56ce6eb9",
   "metadata": {
    "tags": []
   },
   "outputs": [
    {
     "data": {
      "text/html": [
       "<div>\n",
       "<style scoped>\n",
       "    .dataframe tbody tr th:only-of-type {\n",
       "        vertical-align: middle;\n",
       "    }\n",
       "\n",
       "    .dataframe tbody tr th {\n",
       "        vertical-align: top;\n",
       "    }\n",
       "\n",
       "    .dataframe thead th {\n",
       "        text-align: right;\n",
       "    }\n",
       "</style>\n",
       "<table border=\"1\" class=\"dataframe\">\n",
       "  <thead>\n",
       "    <tr style=\"text-align: right;\">\n",
       "      <th></th>\n",
       "      <th>lat</th>\n",
       "      <th>lon</th>\n",
       "      <th>minutes_remaining</th>\n",
       "      <th>period</th>\n",
       "      <th>playoffs</th>\n",
       "      <th>shot_distance</th>\n",
       "      <th>shot_made_flag</th>\n",
       "      <th>prediction_label</th>\n",
       "      <th>prediction_score</th>\n",
       "    </tr>\n",
       "  </thead>\n",
       "  <tbody>\n",
       "    <tr>\n",
       "      <th>19723</th>\n",
       "      <td>33.947300</td>\n",
       "      <td>-118.166801</td>\n",
       "      <td>1</td>\n",
       "      <td>4</td>\n",
       "      <td>0</td>\n",
       "      <td>14</td>\n",
       "      <td>0.0</td>\n",
       "      <td>0</td>\n",
       "      <td>0.5946</td>\n",
       "    </tr>\n",
       "    <tr>\n",
       "      <th>586</th>\n",
       "      <td>34.044300</td>\n",
       "      <td>-118.269798</td>\n",
       "      <td>7</td>\n",
       "      <td>2</td>\n",
       "      <td>0</td>\n",
       "      <td>0</td>\n",
       "      <td>1.0</td>\n",
       "      <td>1</td>\n",
       "      <td>0.5990</td>\n",
       "    </tr>\n",
       "    <tr>\n",
       "      <th>29355</th>\n",
       "      <td>33.940300</td>\n",
       "      <td>-118.098801</td>\n",
       "      <td>10</td>\n",
       "      <td>1</td>\n",
       "      <td>1</td>\n",
       "      <td>20</td>\n",
       "      <td>1.0</td>\n",
       "      <td>0</td>\n",
       "      <td>0.6349</td>\n",
       "    </tr>\n",
       "    <tr>\n",
       "      <th>8424</th>\n",
       "      <td>34.044300</td>\n",
       "      <td>-118.269798</td>\n",
       "      <td>2</td>\n",
       "      <td>4</td>\n",
       "      <td>0</td>\n",
       "      <td>0</td>\n",
       "      <td>1.0</td>\n",
       "      <td>1</td>\n",
       "      <td>0.5692</td>\n",
       "    </tr>\n",
       "    <tr>\n",
       "      <th>5848</th>\n",
       "      <td>34.044300</td>\n",
       "      <td>-118.269798</td>\n",
       "      <td>9</td>\n",
       "      <td>3</td>\n",
       "      <td>0</td>\n",
       "      <td>0</td>\n",
       "      <td>1.0</td>\n",
       "      <td>1</td>\n",
       "      <td>0.5894</td>\n",
       "    </tr>\n",
       "    <tr>\n",
       "      <th>...</th>\n",
       "      <td>...</td>\n",
       "      <td>...</td>\n",
       "      <td>...</td>\n",
       "      <td>...</td>\n",
       "      <td>...</td>\n",
       "      <td>...</td>\n",
       "      <td>...</td>\n",
       "      <td>...</td>\n",
       "      <td>...</td>\n",
       "    </tr>\n",
       "    <tr>\n",
       "      <th>10186</th>\n",
       "      <td>33.957298</td>\n",
       "      <td>-118.106796</td>\n",
       "      <td>10</td>\n",
       "      <td>1</td>\n",
       "      <td>0</td>\n",
       "      <td>18</td>\n",
       "      <td>1.0</td>\n",
       "      <td>0</td>\n",
       "      <td>0.6003</td>\n",
       "    </tr>\n",
       "    <tr>\n",
       "      <th>24516</th>\n",
       "      <td>33.970299</td>\n",
       "      <td>-118.191803</td>\n",
       "      <td>3</td>\n",
       "      <td>3</td>\n",
       "      <td>0</td>\n",
       "      <td>10</td>\n",
       "      <td>0.0</td>\n",
       "      <td>0</td>\n",
       "      <td>0.5335</td>\n",
       "    </tr>\n",
       "    <tr>\n",
       "      <th>5892</th>\n",
       "      <td>34.036301</td>\n",
       "      <td>-118.113800</td>\n",
       "      <td>11</td>\n",
       "      <td>2</td>\n",
       "      <td>0</td>\n",
       "      <td>15</td>\n",
       "      <td>0.0</td>\n",
       "      <td>0</td>\n",
       "      <td>0.5859</td>\n",
       "    </tr>\n",
       "    <tr>\n",
       "      <th>99</th>\n",
       "      <td>34.035301</td>\n",
       "      <td>-118.230797</td>\n",
       "      <td>11</td>\n",
       "      <td>3</td>\n",
       "      <td>0</td>\n",
       "      <td>4</td>\n",
       "      <td>0.0</td>\n",
       "      <td>1</td>\n",
       "      <td>0.5426</td>\n",
       "    </tr>\n",
       "    <tr>\n",
       "      <th>12111</th>\n",
       "      <td>33.888302</td>\n",
       "      <td>-118.386803</td>\n",
       "      <td>8</td>\n",
       "      <td>1</td>\n",
       "      <td>0</td>\n",
       "      <td>19</td>\n",
       "      <td>1.0</td>\n",
       "      <td>0</td>\n",
       "      <td>0.5932</td>\n",
       "    </tr>\n",
       "  </tbody>\n",
       "</table>\n",
       "<p>4057 rows × 9 columns</p>\n",
       "</div>"
      ],
      "text/plain": [
       "             lat         lon  minutes_remaining  period  playoffs  \\\n",
       "19723  33.947300 -118.166801                  1       4         0   \n",
       "586    34.044300 -118.269798                  7       2         0   \n",
       "29355  33.940300 -118.098801                 10       1         1   \n",
       "8424   34.044300 -118.269798                  2       4         0   \n",
       "5848   34.044300 -118.269798                  9       3         0   \n",
       "...          ...         ...                ...     ...       ...   \n",
       "10186  33.957298 -118.106796                 10       1         0   \n",
       "24516  33.970299 -118.191803                  3       3         0   \n",
       "5892   34.036301 -118.113800                 11       2         0   \n",
       "99     34.035301 -118.230797                 11       3         0   \n",
       "12111  33.888302 -118.386803                  8       1         0   \n",
       "\n",
       "       shot_distance  shot_made_flag  prediction_label  prediction_score  \n",
       "19723             14             0.0                 0            0.5946  \n",
       "586                0             1.0                 1            0.5990  \n",
       "29355             20             1.0                 0            0.6349  \n",
       "8424               0             1.0                 1            0.5692  \n",
       "5848               0             1.0                 1            0.5894  \n",
       "...              ...             ...               ...               ...  \n",
       "10186             18             1.0                 0            0.6003  \n",
       "24516             10             0.0                 0            0.5335  \n",
       "5892              15             0.0                 0            0.5859  \n",
       "99                 4             0.0                 1            0.5426  \n",
       "12111             19             1.0                 0            0.5932  \n",
       "\n",
       "[4057 rows x 9 columns]"
      ]
     },
     "execution_count": 47,
     "metadata": {},
     "output_type": "execute_result"
    }
   ],
   "source": [
    "predicted_"
   ]
  },
  {
   "cell_type": "code",
   "execution_count": 52,
   "id": "2e3152ed-31e0-414a-85bf-5206d718b033",
   "metadata": {
    "tags": []
   },
   "outputs": [
    {
     "data": {
      "text/plain": [
       "{'0.0': {'precision': 0.5658161198865937,\n",
       "  'recall': 0.6831295843520783,\n",
       "  'f1-score': 0.6189632255206026,\n",
       "  'support': 2045},\n",
       " '1.0': {'precision': 0.5919395465994962,\n",
       "  'recall': 0.4671968190854871,\n",
       "  'f1-score': 0.5222222222222223,\n",
       "  'support': 2012},\n",
       " 'accuracy': 0.5760414099087996,\n",
       " 'macro avg': {'precision': 0.578877833243045,\n",
       "  'recall': 0.5751632017187827,\n",
       "  'f1-score': 0.5705927238714124,\n",
       "  'support': 4057},\n",
       " 'weighted avg': {'precision': 0.5787715881011266,\n",
       "  'recall': 0.5760414099087996,\n",
       "  'f1-score': 0.5709861738478539,\n",
       "  'support': 4057}}"
      ]
     },
     "execution_count": 52,
     "metadata": {},
     "output_type": "execute_result"
    }
   ],
   "source": [
    "report"
   ]
  },
  {
   "cell_type": "code",
   "execution_count": 59,
   "id": "bb320f45-3b6f-4993-a28d-204849bbd84a",
   "metadata": {
    "tags": []
   },
   "outputs": [],
   "source": [
    "prob = model_lr.predict_proba(df_test.drop(columns='shot_made_flag'))"
   ]
  },
  {
   "cell_type": "code",
   "execution_count": 55,
   "id": "8c5321c0-d824-47ca-a694-20fc193dd33e",
   "metadata": {
    "tags": []
   },
   "outputs": [
    {
     "data": {
      "text/plain": [
       "19723    0.0\n",
       "586      1.0\n",
       "29355    1.0\n",
       "8424     1.0\n",
       "5848     1.0\n",
       "        ... \n",
       "10186    1.0\n",
       "24516    0.0\n",
       "5892     0.0\n",
       "99       0.0\n",
       "12111    1.0\n",
       "Name: shot_made_flag, Length: 4057, dtype: float64"
      ]
     },
     "execution_count": 55,
     "metadata": {},
     "output_type": "execute_result"
    }
   ],
   "source": [
    "df_test['shot_made_flag']"
   ]
  },
  {
   "cell_type": "code",
   "execution_count": 57,
   "id": "1fe47f62-a339-4fa1-9a39-a7d13424e704",
   "metadata": {
    "tags": []
   },
   "outputs": [
    {
     "data": {
      "text/html": [
       "<div>\n",
       "<style scoped>\n",
       "    .dataframe tbody tr th:only-of-type {\n",
       "        vertical-align: middle;\n",
       "    }\n",
       "\n",
       "    .dataframe tbody tr th {\n",
       "        vertical-align: top;\n",
       "    }\n",
       "\n",
       "    .dataframe thead th {\n",
       "        text-align: right;\n",
       "    }\n",
       "</style>\n",
       "<table border=\"1\" class=\"dataframe\">\n",
       "  <thead>\n",
       "    <tr style=\"text-align: right;\">\n",
       "      <th></th>\n",
       "      <th>lat</th>\n",
       "      <th>lon</th>\n",
       "      <th>minutes_remaining</th>\n",
       "      <th>period</th>\n",
       "      <th>playoffs</th>\n",
       "      <th>shot_distance</th>\n",
       "      <th>shot_made_flag</th>\n",
       "    </tr>\n",
       "  </thead>\n",
       "  <tbody>\n",
       "    <tr>\n",
       "      <th>19723</th>\n",
       "      <td>33.9473</td>\n",
       "      <td>-118.1668</td>\n",
       "      <td>1</td>\n",
       "      <td>4</td>\n",
       "      <td>0</td>\n",
       "      <td>14</td>\n",
       "      <td>0.0</td>\n",
       "    </tr>\n",
       "    <tr>\n",
       "      <th>586</th>\n",
       "      <td>34.0443</td>\n",
       "      <td>-118.2698</td>\n",
       "      <td>7</td>\n",
       "      <td>2</td>\n",
       "      <td>0</td>\n",
       "      <td>0</td>\n",
       "      <td>1.0</td>\n",
       "    </tr>\n",
       "    <tr>\n",
       "      <th>29355</th>\n",
       "      <td>33.9403</td>\n",
       "      <td>-118.0988</td>\n",
       "      <td>10</td>\n",
       "      <td>1</td>\n",
       "      <td>1</td>\n",
       "      <td>20</td>\n",
       "      <td>1.0</td>\n",
       "    </tr>\n",
       "    <tr>\n",
       "      <th>8424</th>\n",
       "      <td>34.0443</td>\n",
       "      <td>-118.2698</td>\n",
       "      <td>2</td>\n",
       "      <td>4</td>\n",
       "      <td>0</td>\n",
       "      <td>0</td>\n",
       "      <td>1.0</td>\n",
       "    </tr>\n",
       "    <tr>\n",
       "      <th>5848</th>\n",
       "      <td>34.0443</td>\n",
       "      <td>-118.2698</td>\n",
       "      <td>9</td>\n",
       "      <td>3</td>\n",
       "      <td>0</td>\n",
       "      <td>0</td>\n",
       "      <td>1.0</td>\n",
       "    </tr>\n",
       "    <tr>\n",
       "      <th>...</th>\n",
       "      <td>...</td>\n",
       "      <td>...</td>\n",
       "      <td>...</td>\n",
       "      <td>...</td>\n",
       "      <td>...</td>\n",
       "      <td>...</td>\n",
       "      <td>...</td>\n",
       "    </tr>\n",
       "    <tr>\n",
       "      <th>10186</th>\n",
       "      <td>33.9573</td>\n",
       "      <td>-118.1068</td>\n",
       "      <td>10</td>\n",
       "      <td>1</td>\n",
       "      <td>0</td>\n",
       "      <td>18</td>\n",
       "      <td>1.0</td>\n",
       "    </tr>\n",
       "    <tr>\n",
       "      <th>24516</th>\n",
       "      <td>33.9703</td>\n",
       "      <td>-118.1918</td>\n",
       "      <td>3</td>\n",
       "      <td>3</td>\n",
       "      <td>0</td>\n",
       "      <td>10</td>\n",
       "      <td>0.0</td>\n",
       "    </tr>\n",
       "    <tr>\n",
       "      <th>5892</th>\n",
       "      <td>34.0363</td>\n",
       "      <td>-118.1138</td>\n",
       "      <td>11</td>\n",
       "      <td>2</td>\n",
       "      <td>0</td>\n",
       "      <td>15</td>\n",
       "      <td>0.0</td>\n",
       "    </tr>\n",
       "    <tr>\n",
       "      <th>99</th>\n",
       "      <td>34.0353</td>\n",
       "      <td>-118.2308</td>\n",
       "      <td>11</td>\n",
       "      <td>3</td>\n",
       "      <td>0</td>\n",
       "      <td>4</td>\n",
       "      <td>0.0</td>\n",
       "    </tr>\n",
       "    <tr>\n",
       "      <th>12111</th>\n",
       "      <td>33.8883</td>\n",
       "      <td>-118.3868</td>\n",
       "      <td>8</td>\n",
       "      <td>1</td>\n",
       "      <td>0</td>\n",
       "      <td>19</td>\n",
       "      <td>1.0</td>\n",
       "    </tr>\n",
       "  </tbody>\n",
       "</table>\n",
       "<p>4057 rows × 7 columns</p>\n",
       "</div>"
      ],
      "text/plain": [
       "           lat       lon  minutes_remaining  period  playoffs  shot_distance  \\\n",
       "19723  33.9473 -118.1668                  1       4         0             14   \n",
       "586    34.0443 -118.2698                  7       2         0              0   \n",
       "29355  33.9403 -118.0988                 10       1         1             20   \n",
       "8424   34.0443 -118.2698                  2       4         0              0   \n",
       "5848   34.0443 -118.2698                  9       3         0              0   \n",
       "...        ...       ...                ...     ...       ...            ...   \n",
       "10186  33.9573 -118.1068                 10       1         0             18   \n",
       "24516  33.9703 -118.1918                  3       3         0             10   \n",
       "5892   34.0363 -118.1138                 11       2         0             15   \n",
       "99     34.0353 -118.2308                 11       3         0              4   \n",
       "12111  33.8883 -118.3868                  8       1         0             19   \n",
       "\n",
       "       shot_made_flag  \n",
       "19723             0.0  \n",
       "586               1.0  \n",
       "29355             1.0  \n",
       "8424              1.0  \n",
       "5848              1.0  \n",
       "...               ...  \n",
       "10186             1.0  \n",
       "24516             0.0  \n",
       "5892              0.0  \n",
       "99                0.0  \n",
       "12111             1.0  \n",
       "\n",
       "[4057 rows x 7 columns]"
      ]
     },
     "execution_count": 57,
     "metadata": {},
     "output_type": "execute_result"
    }
   ],
   "source": [
    "df_test"
   ]
  },
  {
   "cell_type": "code",
   "execution_count": 60,
   "id": "927f57d7-eeed-4a55-a1e0-d4a2e2d0e67c",
   "metadata": {
    "tags": []
   },
   "outputs": [
    {
     "data": {
      "text/plain": [
       "0.6799838503417804"
      ]
     },
     "execution_count": 60,
     "metadata": {},
     "output_type": "execute_result"
    }
   ],
   "source": [
    "log_loss(df_test['shot_made_flag'],prob)"
   ]
  },
  {
   "cell_type": "code",
   "execution_count": 61,
   "id": "87e6bcad-5e36-4800-9670-941777ed8ccb",
   "metadata": {
    "tags": []
   },
   "outputs": [
    {
     "data": {
      "text/html": [
       "<style>#sk-container-id-5 {color: black;background-color: white;}#sk-container-id-5 pre{padding: 0;}#sk-container-id-5 div.sk-toggleable {background-color: white;}#sk-container-id-5 label.sk-toggleable__label {cursor: pointer;display: block;width: 100%;margin-bottom: 0;padding: 0.3em;box-sizing: border-box;text-align: center;}#sk-container-id-5 label.sk-toggleable__label-arrow:before {content: \"▸\";float: left;margin-right: 0.25em;color: #696969;}#sk-container-id-5 label.sk-toggleable__label-arrow:hover:before {color: black;}#sk-container-id-5 div.sk-estimator:hover label.sk-toggleable__label-arrow:before {color: black;}#sk-container-id-5 div.sk-toggleable__content {max-height: 0;max-width: 0;overflow: hidden;text-align: left;background-color: #f0f8ff;}#sk-container-id-5 div.sk-toggleable__content pre {margin: 0.2em;color: black;border-radius: 0.25em;background-color: #f0f8ff;}#sk-container-id-5 input.sk-toggleable__control:checked~div.sk-toggleable__content {max-height: 200px;max-width: 100%;overflow: auto;}#sk-container-id-5 input.sk-toggleable__control:checked~label.sk-toggleable__label-arrow:before {content: \"▾\";}#sk-container-id-5 div.sk-estimator input.sk-toggleable__control:checked~label.sk-toggleable__label {background-color: #d4ebff;}#sk-container-id-5 div.sk-label input.sk-toggleable__control:checked~label.sk-toggleable__label {background-color: #d4ebff;}#sk-container-id-5 input.sk-hidden--visually {border: 0;clip: rect(1px 1px 1px 1px);clip: rect(1px, 1px, 1px, 1px);height: 1px;margin: -1px;overflow: hidden;padding: 0;position: absolute;width: 1px;}#sk-container-id-5 div.sk-estimator {font-family: monospace;background-color: #f0f8ff;border: 1px dotted black;border-radius: 0.25em;box-sizing: border-box;margin-bottom: 0.5em;}#sk-container-id-5 div.sk-estimator:hover {background-color: #d4ebff;}#sk-container-id-5 div.sk-parallel-item::after {content: \"\";width: 100%;border-bottom: 1px solid gray;flex-grow: 1;}#sk-container-id-5 div.sk-label:hover label.sk-toggleable__label {background-color: #d4ebff;}#sk-container-id-5 div.sk-serial::before {content: \"\";position: absolute;border-left: 1px solid gray;box-sizing: border-box;top: 0;bottom: 0;left: 50%;z-index: 0;}#sk-container-id-5 div.sk-serial {display: flex;flex-direction: column;align-items: center;background-color: white;padding-right: 0.2em;padding-left: 0.2em;position: relative;}#sk-container-id-5 div.sk-item {position: relative;z-index: 1;}#sk-container-id-5 div.sk-parallel {display: flex;align-items: stretch;justify-content: center;background-color: white;position: relative;}#sk-container-id-5 div.sk-item::before, #sk-container-id-5 div.sk-parallel-item::before {content: \"\";position: absolute;border-left: 1px solid gray;box-sizing: border-box;top: 0;bottom: 0;left: 50%;z-index: -1;}#sk-container-id-5 div.sk-parallel-item {display: flex;flex-direction: column;z-index: 1;position: relative;background-color: white;}#sk-container-id-5 div.sk-parallel-item:first-child::after {align-self: flex-end;width: 50%;}#sk-container-id-5 div.sk-parallel-item:last-child::after {align-self: flex-start;width: 50%;}#sk-container-id-5 div.sk-parallel-item:only-child::after {width: 0;}#sk-container-id-5 div.sk-dashed-wrapped {border: 1px dashed gray;margin: 0 0.4em 0.5em 0.4em;box-sizing: border-box;padding-bottom: 0.4em;background-color: white;}#sk-container-id-5 div.sk-label label {font-family: monospace;font-weight: bold;display: inline-block;line-height: 1.2em;}#sk-container-id-5 div.sk-label-container {text-align: center;}#sk-container-id-5 div.sk-container {/* jupyter's `normalize.less` sets `[hidden] { display: none; }` but bootstrap.min.css set `[hidden] { display: none !important; }` so we also need the `!important` here to be able to override the default hidden behavior on the sphinx rendered scikit-learn.org. See: https://github.com/scikit-learn/scikit-learn/issues/21755 */display: inline-block !important;position: relative;}#sk-container-id-5 div.sk-text-repr-fallback {display: none;}</style><div id=\"sk-container-id-5\" class=\"sk-top-container\"><div class=\"sk-text-repr-fallback\"><pre>AdaBoostClassifier(algorithm=&#x27;SAMME.R&#x27;, base_estimator=&#x27;deprecated&#x27;,\n",
       "                   estimator=None, learning_rate=1.0, n_estimators=50,\n",
       "                   random_state=1089)</pre><b>In a Jupyter environment, please rerun this cell to show the HTML representation or trust the notebook. <br />On GitHub, the HTML representation is unable to render, please try loading this page with nbviewer.org.</b></div><div class=\"sk-container\" hidden><div class=\"sk-item\"><div class=\"sk-estimator sk-toggleable\"><input class=\"sk-toggleable__control sk-hidden--visually\" id=\"sk-estimator-id-5\" type=\"checkbox\" checked><label for=\"sk-estimator-id-5\" class=\"sk-toggleable__label sk-toggleable__label-arrow\">AdaBoostClassifier</label><div class=\"sk-toggleable__content\"><pre>AdaBoostClassifier(algorithm=&#x27;SAMME.R&#x27;, base_estimator=&#x27;deprecated&#x27;,\n",
       "                   estimator=None, learning_rate=1.0, n_estimators=50,\n",
       "                   random_state=1089)</pre></div></div></div></div></div>"
      ],
      "text/plain": [
       "AdaBoostClassifier(algorithm='SAMME.R', base_estimator='deprecated',\n",
       "                   estimator=None, learning_rate=1.0, n_estimators=50,\n",
       "                   random_state=1089)"
      ]
     },
     "execution_count": 61,
     "metadata": {},
     "output_type": "execute_result"
    }
   ],
   "source": [
    "best_md"
   ]
  },
  {
   "cell_type": "code",
   "execution_count": null,
   "id": "4910f4f8-c1f4-47ad-a43b-7682b113b0ac",
   "metadata": {},
   "outputs": [],
   "source": []
  }
 ],
 "metadata": {
  "kernelspec": {
   "display_name": "Kedro (eng_ml)",
   "language": "python",
   "name": "kedro_eng_ml"
  },
  "language_info": {
   "codemirror_mode": {
    "name": "ipython",
    "version": 3
   },
   "file_extension": ".py",
   "mimetype": "text/x-python",
   "name": "python",
   "nbconvert_exporter": "python",
   "pygments_lexer": "ipython3",
   "version": "3.9.16"
  }
 },
 "nbformat": 4,
 "nbformat_minor": 5
}
