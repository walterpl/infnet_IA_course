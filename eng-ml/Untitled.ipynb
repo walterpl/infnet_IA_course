{
 "cells": [
  {
   "cell_type": "code",
   "execution_count": null,
   "id": "5b0576ed-4562-47a4-8d7e-12fc637896ca",
   "metadata": {},
   "outputs": [],
   "source": []
  }
 ],
 "metadata": {
  "kernelspec": {
   "display_name": "Kedro (eng_ml)",
   "language": "python",
   "name": "kedro_eng_ml"
  },
  "language_info": {
   "codemirror_mode": {
    "name": "ipython",
    "version": 3
   },
   "file_extension": ".py",
   "mimetype": "text/x-python",
   "name": "python",
   "nbconvert_exporter": "python",
   "pygments_lexer": "ipython3",
   "version": "3.9.16"
  }
 },
 "nbformat": 4,
 "nbformat_minor": 5
}
